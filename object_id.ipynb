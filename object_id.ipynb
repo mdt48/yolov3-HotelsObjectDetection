{
 "metadata": {
  "language_info": {
   "codemirror_mode": {
    "name": "ipython",
    "version": 3
   },
   "file_extension": ".py",
   "mimetype": "text/x-python",
   "name": "python",
   "nbconvert_exporter": "python",
   "pygments_lexer": "ipython3",
   "version": "3.7.7-final"
  },
  "orig_nbformat": 2,
  "kernelspec": {
   "name": "python37764bityoloconda2b4f3a1b6c71413a9c57d332d1eac9fe",
   "display_name": "Python 3.7.7 64-bit ('yolo': conda)"
  }
 },
 "nbformat": 4,
 "nbformat_minor": 2,
 "cells": [
  {
   "cell_type": "code",
   "execution_count": 1,
   "metadata": {},
   "outputs": [],
   "source": [
    "from tqdm import tqdm\n",
    "import glob, os"
   ]
  },
  {
   "cell_type": "code",
   "execution_count": 2,
   "metadata": {},
   "outputs": [],
   "source": [
    "import json\n",
    "imgs = []\n",
    "with open(\"./response_1595959017442.json\") as f:\n",
    "    data = json.load(f)\n",
    "base = \"../../datasets/Hotels-50K/images/train/\"\n",
    "for f in data['images']:\n",
    "    if f[\"dataset_id\"] == 9:\n",
    "        path = f['file_name'].split(\"_\", 1)[1].replace(\"_GREY_SEG\", \"\").replace(\"_\", \"/\").replace(\"travel/website\",'travel_website')\n",
    "        imgs.append((f['id'], base+path))"
   ]
  },
  {
   "cell_type": "code",
   "execution_count": 3,
   "metadata": {},
   "outputs": [],
   "source": [
    "rare = ['sink', \"refridgerator\", \"microwave\", \"closet\"]"
   ]
  },
  {
   "cell_type": "code",
   "execution_count": 9,
   "metadata": {
    "tags": []
   },
   "outputs": [
    {
     "output_type": "stream",
     "name": "stdout",
     "text": "python3 detect.py --source ../../datasets/Hotels-50K/images/train/30/78198/travel_website/6358135.jpg \npython3 detect.py --source ../../datasets/Hotels-50K/images/train/1/4472/traffickcam/3867302.jpg \npython3 detect.py --source ../../datasets/Hotels-50K/images/train/1/27194/traffickcam/3910969.jpg \npython3 detect.py --source ../../datasets/Hotels-50K/images/train/76/21676/traffickcam/3890070.jpg \npython3 detect.py --source ../../datasets/Hotels-50K/images/train/2/85777/traffickcam/2640264.jpg \npython3 detect.py --source ../../datasets/Hotels-50K/images/train/2/33531/travel_website/7076111.jpg \npython3 detect.py --source ../../datasets/Hotels-50K/images/train/2/82848/travel_website/6495659.jpg \npython3 detect.py --source ../../datasets/Hotels-50K/images/train/2/18410/travel_website/5995065.jpg \npython3 detect.py --source ../../datasets/Hotels-50K/images/train/81/82178/traffickcam/3862943.jpg \npython3 detect.py --source ../../datasets/Hotels-50K/images/train/76/3637/travel_website/5998432.jpg \npython3 detect.py --source ../../datasets/Hotels-50K/images/train/90/32848/traffickcam/2658312.jpg \npython3 detect.py --source ../../datasets/Hotels-50K/images/train/76/73975/travel_website/5999339.jpg \npython3 detect.py --source ../../datasets/Hotels-50K/images/train/76/8636/traffickcam/3908955.jpg \npython3 detect.py --source ../../datasets/Hotels-50K/images/train/66/94434/travel_website/6031211.jpg \npython3 detect.py --source ../../datasets/Hotels-50K/images/train/1/84116/travel_website/6001290.jpg \npython3 detect.py --source ../../datasets/Hotels-50K/images/train/1/10389/traffickcam/3839562.jpg \npython3 detect.py --source ../../datasets/Hotels-50K/images/train/92/32904/traffickcam/3856020.jpg \npython3 detect.py --source ../../datasets/Hotels-50K/images/train/2/29934/traffickcam/3834197.jpg \npython3 detect.py --source ../../datasets/Hotels-50K/images/train/80/100206/travel_website/6347661.jpg \npython3 detect.py --source ../../datasets/Hotels-50K/images/train/2/144869/traffickcam/3903675.jpg \npython3 detect.py --source ../../datasets/Hotels-50K/images/train/2/92039/traffickcam/3958266.jpg \npython3 detect.py --source ../../datasets/Hotels-50K/images/train/91/37074/travel_website/6001182.jpg \npython3 detect.py --source ../../datasets/Hotels-50K/images/train/90/23976/traffickcam/3851654.jpg \npython3 detect.py --source ../../datasets/Hotels-50K/images/train/87/20462/traffickcam/3914477.jpg \npython3 detect.py --source ../../datasets/Hotels-50K/images/train/-1/1001/travel_website/6262846.jpg \npython3 detect.py --source ../../datasets/Hotels-50K/images/train/71/86720/traffickcam/3881856.jpg \npython3 detect.py --source ../../datasets/Hotels-50K/images/train/-1/25543/traffickcam/2595957.jpg \npython3 detect.py --source ../../datasets/Hotels-50K/images/train/71/12809/travel_website/6009463.jpg \npython3 detect.py --source ../../datasets/Hotels-50K/images/train/91/81693/traffickcam/3939706.jpg \npython3 detect.py --source ../../datasets/Hotels-50K/images/train/1/84116/travel_website/6001286.jpg \npython3 detect.py --source ../../datasets/Hotels-50K/images/train/81/118833/traffickcam/3899285.jpg \npython3 detect.py --source ../../datasets/Hotels-50K/images/train/92/44337/traffickcam/3837187.jpg \npython3 detect.py --source ../../datasets/Hotels-50K/images/train/32/5467/travel_website/6040189.jpg \npython3 detect.py --source ../../datasets/Hotels-50K/images/train/1/144190/traffickcam/2894841.jpg \npython3 detect.py --source ../../datasets/Hotels-50K/images/train/90/85771/traffickcam/3894939.jpg \npython3 detect.py --source ../../datasets/Hotels-50K/images/train/3/84596/travel_website/6338424.jpg \npython3 detect.py --source ../../datasets/Hotels-50K/images/train/2/33721/traffickcam/3931330.jpg \npython3 detect.py --source ../../datasets/Hotels-50K/images/train/74/8456/traffickcam/2633913.jpg \npython3 detect.py --source ../../datasets/Hotels-50K/images/train/-1/207689/traffickcam/3941854.jpg \npython3 detect.py --source ../../datasets/Hotels-50K/images/train/1/8220/travel_website/6001407.jpg \npython3 detect.py --source ../../datasets/Hotels-50K/images/train/2/76975/traffickcam/3895113.jpg \npython3 detect.py --source ../../datasets/Hotels-50K/images/train/92/3476/traffickcam/2666163.jpg \npython3 detect.py --source ../../datasets/Hotels-50K/images/train/90/14940/traffickcam/3935926.jpg \npython3 detect.py --source ../../datasets/Hotels-50K/images/train/92/83748/traffickcam/3941584.jpg \n"
    },
    {
     "output_type": "error",
     "ename": "KeyboardInterrupt",
     "evalue": "",
     "traceback": [
      "\u001b[0;31m---------------------------------------------------------------------------\u001b[0m",
      "\u001b[0;31mKeyboardInterrupt\u001b[0m                         Traceback (most recent call last)",
      "\u001b[0;32m<ipython-input-9-626f31cef0ee>\u001b[0m in \u001b[0;36m<module>\u001b[0;34m\u001b[0m\n\u001b[1;32m      6\u001b[0m     \u001b[0;32mimport\u001b[0m \u001b[0msubprocess\u001b[0m\u001b[0;34m\u001b[0m\u001b[0;34m\u001b[0m\u001b[0m\n\u001b[1;32m      7\u001b[0m     \u001b[0mprocess\u001b[0m \u001b[0;34m=\u001b[0m \u001b[0msubprocess\u001b[0m\u001b[0;34m.\u001b[0m\u001b[0mPopen\u001b[0m\u001b[0;34m(\u001b[0m\u001b[0mbashCommand\u001b[0m\u001b[0;34m.\u001b[0m\u001b[0msplit\u001b[0m\u001b[0;34m(\u001b[0m\u001b[0;34m)\u001b[0m\u001b[0;34m,\u001b[0m \u001b[0mstdout\u001b[0m\u001b[0;34m=\u001b[0m\u001b[0msubprocess\u001b[0m\u001b[0;34m.\u001b[0m\u001b[0mPIPE\u001b[0m\u001b[0;34m)\u001b[0m\u001b[0;34m\u001b[0m\u001b[0;34m\u001b[0m\u001b[0m\n\u001b[0;32m----> 8\u001b[0;31m     \u001b[0moutput\u001b[0m\u001b[0;34m,\u001b[0m \u001b[0merror\u001b[0m \u001b[0;34m=\u001b[0m \u001b[0mprocess\u001b[0m\u001b[0;34m.\u001b[0m\u001b[0mcommunicate\u001b[0m\u001b[0;34m(\u001b[0m\u001b[0;34m)\u001b[0m\u001b[0;34m\u001b[0m\u001b[0;34m\u001b[0m\u001b[0m\n\u001b[0m\u001b[1;32m      9\u001b[0m     \u001b[0;32mfor\u001b[0m \u001b[0mr\u001b[0m \u001b[0;32min\u001b[0m \u001b[0mrare\u001b[0m\u001b[0;34m:\u001b[0m\u001b[0;34m\u001b[0m\u001b[0;34m\u001b[0m\u001b[0m\n\u001b[1;32m     10\u001b[0m         \u001b[0;32mif\u001b[0m \u001b[0mr\u001b[0m \u001b[0;32min\u001b[0m \u001b[0mstr\u001b[0m\u001b[0;34m(\u001b[0m\u001b[0moutput\u001b[0m\u001b[0;34m)\u001b[0m\u001b[0;34m:\u001b[0m\u001b[0;34m\u001b[0m\u001b[0;34m\u001b[0m\u001b[0m\n",
      "\u001b[0;32m~/.conda/envs/yolo/lib/python3.7/subprocess.py\u001b[0m in \u001b[0;36mcommunicate\u001b[0;34m(self, input, timeout)\u001b[0m\n\u001b[1;32m    949\u001b[0m                 \u001b[0mself\u001b[0m\u001b[0;34m.\u001b[0m\u001b[0m_stdin_write\u001b[0m\u001b[0;34m(\u001b[0m\u001b[0minput\u001b[0m\u001b[0;34m)\u001b[0m\u001b[0;34m\u001b[0m\u001b[0;34m\u001b[0m\u001b[0m\n\u001b[1;32m    950\u001b[0m             \u001b[0;32melif\u001b[0m \u001b[0mself\u001b[0m\u001b[0;34m.\u001b[0m\u001b[0mstdout\u001b[0m\u001b[0;34m:\u001b[0m\u001b[0;34m\u001b[0m\u001b[0;34m\u001b[0m\u001b[0m\n\u001b[0;32m--> 951\u001b[0;31m                 \u001b[0mstdout\u001b[0m \u001b[0;34m=\u001b[0m \u001b[0mself\u001b[0m\u001b[0;34m.\u001b[0m\u001b[0mstdout\u001b[0m\u001b[0;34m.\u001b[0m\u001b[0mread\u001b[0m\u001b[0;34m(\u001b[0m\u001b[0;34m)\u001b[0m\u001b[0;34m\u001b[0m\u001b[0;34m\u001b[0m\u001b[0m\n\u001b[0m\u001b[1;32m    952\u001b[0m                 \u001b[0mself\u001b[0m\u001b[0;34m.\u001b[0m\u001b[0mstdout\u001b[0m\u001b[0;34m.\u001b[0m\u001b[0mclose\u001b[0m\u001b[0;34m(\u001b[0m\u001b[0;34m)\u001b[0m\u001b[0;34m\u001b[0m\u001b[0;34m\u001b[0m\u001b[0m\n\u001b[1;32m    953\u001b[0m             \u001b[0;32melif\u001b[0m \u001b[0mself\u001b[0m\u001b[0;34m.\u001b[0m\u001b[0mstderr\u001b[0m\u001b[0;34m:\u001b[0m\u001b[0;34m\u001b[0m\u001b[0;34m\u001b[0m\u001b[0m\n",
      "\u001b[0;31mKeyboardInterrupt\u001b[0m: "
     ]
    }
   ],
   "source": [
    "found_ids=[]\n",
    "for img in imgs:\n",
    "    bashCommand = \"python3 detect.py --source {} \"\n",
    "    bashCommand = bashCommand.format(img[1])\n",
    "    print(str(bashCommand))\n",
    "    \n",
    "    import subprocess\n",
    "    process = subprocess.Popen(bashCommand.split(), stdout=subprocess.PIPE)\n",
    "    output, error = process.communicate()\n",
    "    for r in rare:\n",
    "        if r in str(output):\n",
    "            found[img[0]] = img[1]\n",
    "    # print(output)"
   ]
  },
  {
   "cell_type": "code",
   "execution_count": 15,
   "metadata": {},
   "outputs": [],
   "source": [
    "with open(\"ids.txt\", \"w\") as f:\n",
    "    for id in found_ids:\n",
    "        f.write(id+'\\n')"
   ]
  },
  {
   "cell_type": "code",
   "execution_count": null,
   "metadata": {},
   "outputs": [],
   "source": []
  }
 ]
}